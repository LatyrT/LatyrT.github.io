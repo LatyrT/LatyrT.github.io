{
 "cells": [
  {
   "cell_type": "code",
   "execution_count": 1,
   "metadata": {},
   "outputs": [],
   "source": [
    "## IMPORT DEPENDENCIES\n",
    "# Pandas\n",
    "import pandas as pd\n",
    "import psycopg2\n",
    "\n",
    "# SQL Alchemy\n",
    "#from sqlalchemy import create_engine\n",
    "\n",
    "#%matplotlib Notebook\n",
    "%matplotlib inline\n",
    "import matplotlib.pyplot as plt"
   ]
  },
  {
   "cell_type": "code",
   "execution_count": 2,
   "metadata": {},
   "outputs": [],
   "source": [
    "# establish connection\n",
    "Connection = psycopg2.connect(host=\"localhost\", \n",
    "                        port = 5432, \n",
    "                        database=\"EmployeeSQL_DB\", \n",
    "                        user=\"postgres\", \n",
    "                        password=\"LuxMeaLex\"\n",
    "                       )"
   ]
  },
  {
   "cell_type": "code",
   "execution_count": 15,
   "metadata": {},
   "outputs": [],
   "source": [
    "# Query SALARIES table\n",
    "Employee_DF = pd.read_sql(\"SELECT * FROM EMPLOYEE AS E INNER JOIN SALARIES AS S ON E.EMPLOYEE_NO = S.EMPLOYEE_NO\" , Connection)\n"
   ]
  },
  {
   "cell_type": "code",
   "execution_count": 4,
   "metadata": {},
   "outputs": [
    {
     "data": {
      "text/html": [
       "<div>\n",
       "<style scoped>\n",
       "    .dataframe tbody tr th:only-of-type {\n",
       "        vertical-align: middle;\n",
       "    }\n",
       "\n",
       "    .dataframe tbody tr th {\n",
       "        vertical-align: top;\n",
       "    }\n",
       "\n",
       "    .dataframe thead th {\n",
       "        text-align: right;\n",
       "    }\n",
       "</style>\n",
       "<table border=\"1\" class=\"dataframe\">\n",
       "  <thead>\n",
       "    <tr style=\"text-align: right;\">\n",
       "      <th></th>\n",
       "      <th>employee_no</th>\n",
       "      <th>birth_date</th>\n",
       "      <th>first_name</th>\n",
       "      <th>last_name</th>\n",
       "      <th>gender</th>\n",
       "      <th>hire_date</th>\n",
       "      <th>employee_no</th>\n",
       "      <th>salary</th>\n",
       "      <th>from_date</th>\n",
       "      <th>to_date</th>\n",
       "    </tr>\n",
       "  </thead>\n",
       "  <tbody>\n",
       "    <tr>\n",
       "      <th>0</th>\n",
       "      <td>10005</td>\n",
       "      <td>1955-01-21</td>\n",
       "      <td>Kyoichi</td>\n",
       "      <td>Maliniak</td>\n",
       "      <td>M</td>\n",
       "      <td>1989-09-12</td>\n",
       "      <td>10005</td>\n",
       "      <td>$78,228.00</td>\n",
       "      <td>1989-09-12</td>\n",
       "      <td>1990-09-12</td>\n",
       "    </tr>\n",
       "    <tr>\n",
       "      <th>1</th>\n",
       "      <td>10010</td>\n",
       "      <td>1963-06-01</td>\n",
       "      <td>Duangkaew</td>\n",
       "      <td>Piveteau</td>\n",
       "      <td>F</td>\n",
       "      <td>1989-08-24</td>\n",
       "      <td>10010</td>\n",
       "      <td>$72,488.00</td>\n",
       "      <td>1996-11-24</td>\n",
       "      <td>1997-11-24</td>\n",
       "    </tr>\n",
       "    <tr>\n",
       "      <th>2</th>\n",
       "      <td>10011</td>\n",
       "      <td>1953-11-07</td>\n",
       "      <td>Mary</td>\n",
       "      <td>Sluis</td>\n",
       "      <td>F</td>\n",
       "      <td>1990-01-22</td>\n",
       "      <td>10011</td>\n",
       "      <td>$42,365.00</td>\n",
       "      <td>1990-01-22</td>\n",
       "      <td>1991-01-22</td>\n",
       "    </tr>\n",
       "    <tr>\n",
       "      <th>3</th>\n",
       "      <td>10013</td>\n",
       "      <td>1963-06-07</td>\n",
       "      <td>Eberhardt</td>\n",
       "      <td>Terkki</td>\n",
       "      <td>M</td>\n",
       "      <td>1985-10-20</td>\n",
       "      <td>10013</td>\n",
       "      <td>$40,000.00</td>\n",
       "      <td>1985-10-20</td>\n",
       "      <td>1986-10-20</td>\n",
       "    </tr>\n",
       "    <tr>\n",
       "      <th>4</th>\n",
       "      <td>10017</td>\n",
       "      <td>1958-07-06</td>\n",
       "      <td>Cristinel</td>\n",
       "      <td>Bouloucos</td>\n",
       "      <td>F</td>\n",
       "      <td>1993-08-03</td>\n",
       "      <td>10017</td>\n",
       "      <td>$71,380.00</td>\n",
       "      <td>1993-08-03</td>\n",
       "      <td>1994-08-03</td>\n",
       "    </tr>\n",
       "  </tbody>\n",
       "</table>\n",
       "</div>"
      ],
      "text/plain": [
       "   employee_no  birth_date first_name  last_name gender   hire_date  \\\n",
       "0        10005  1955-01-21    Kyoichi   Maliniak      M  1989-09-12   \n",
       "1        10010  1963-06-01  Duangkaew   Piveteau      F  1989-08-24   \n",
       "2        10011  1953-11-07       Mary      Sluis      F  1990-01-22   \n",
       "3        10013  1963-06-07  Eberhardt     Terkki      M  1985-10-20   \n",
       "4        10017  1958-07-06  Cristinel  Bouloucos      F  1993-08-03   \n",
       "\n",
       "   employee_no      salary   from_date     to_date  \n",
       "0        10005  $78,228.00  1989-09-12  1990-09-12  \n",
       "1        10010  $72,488.00  1996-11-24  1997-11-24  \n",
       "2        10011  $42,365.00  1990-01-22  1991-01-22  \n",
       "3        10013  $40,000.00  1985-10-20  1986-10-20  \n",
       "4        10017  $71,380.00  1993-08-03  1994-08-03  "
      ]
     },
     "execution_count": 4,
     "metadata": {},
     "output_type": "execute_result"
    }
   ],
   "source": [
    "Employee_DF.head()"
   ]
  },
  {
   "cell_type": "code",
   "execution_count": 5,
   "metadata": {},
   "outputs": [
    {
     "data": {
      "text/plain": [
       "0         $78,228.00\n",
       "1         $72,488.00\n",
       "2         $42,365.00\n",
       "3         $40,000.00\n",
       "4         $71,380.00\n",
       "             ...    \n",
       "300019    $40,000.00\n",
       "300020    $41,002.00\n",
       "300021    $40,000.00\n",
       "300022    $52,282.00\n",
       "300023    $40,000.00\n",
       "Name: salary, Length: 300024, dtype: object"
      ]
     },
     "execution_count": 5,
     "metadata": {},
     "output_type": "execute_result"
    }
   ],
   "source": [
    "# Print salary column\n",
    "Employee_DF[\"salary\"]"
   ]
  },
  {
   "cell_type": "code",
   "execution_count": 6,
   "metadata": {},
   "outputs": [
    {
     "data": {
      "text/plain": [
       "employee_no     int64\n",
       "birth_date     object\n",
       "first_name     object\n",
       "last_name      object\n",
       "gender         object\n",
       "hire_date      object\n",
       "employee_no     int64\n",
       "salary         object\n",
       "from_date      object\n",
       "to_date        object\n",
       "dtype: object"
      ]
     },
     "execution_count": 6,
     "metadata": {},
     "output_type": "execute_result"
    }
   ],
   "source": [
    "# Data types\n",
    "Employee_DF.dtypes"
   ]
  },
  {
   "cell_type": "code",
   "execution_count": 7,
   "metadata": {},
   "outputs": [],
   "source": [
    "# remove $ sign format and convert from object to float\n",
    "Employee_DF[\"salary\"] = Employee_DF[\"salary\"].replace('[\\$,]', \n",
    "                                                      '', \n",
    "                                                      regex=True\n",
    "                                                     ).astype(float)"
   ]
  },
  {
   "cell_type": "code",
   "execution_count": 8,
   "metadata": {},
   "outputs": [
    {
     "data": {
      "text/plain": [
       "employee_no      int64\n",
       "birth_date      object\n",
       "first_name      object\n",
       "last_name       object\n",
       "gender          object\n",
       "hire_date       object\n",
       "employee_no      int64\n",
       "salary         float64\n",
       "from_date       object\n",
       "to_date         object\n",
       "dtype: object"
      ]
     },
     "execution_count": 8,
     "metadata": {},
     "output_type": "execute_result"
    }
   ],
   "source": [
    "# Data types\n",
    "Employee_DF.dtypes"
   ]
  },
  {
   "cell_type": "code",
   "execution_count": 9,
   "metadata": {},
   "outputs": [],
   "source": [
    "# Create Bins\n",
    "bins = [0, \n",
    "        50000, \n",
    "        60000, \n",
    "        70000, \n",
    "        80000, \n",
    "        90000, \n",
    "        100000]\n",
    "\n",
    "# Create group names\n",
    "group_names = [\"0 to 50000\", \n",
    "               \"50000 to 60000\", \n",
    "               \"60000 to 70000\",\n",
    "               \"70000 to 80000\",\n",
    "               \"80000 to 90000\",\n",
    "               \"90000 to 100000\"]"
   ]
  },
  {
   "cell_type": "code",
   "execution_count": 10,
   "metadata": {},
   "outputs": [
    {
     "data": {
      "text/html": [
       "<div>\n",
       "<style scoped>\n",
       "    .dataframe tbody tr th:only-of-type {\n",
       "        vertical-align: middle;\n",
       "    }\n",
       "\n",
       "    .dataframe tbody tr th {\n",
       "        vertical-align: top;\n",
       "    }\n",
       "\n",
       "    .dataframe thead th {\n",
       "        text-align: right;\n",
       "    }\n",
       "</style>\n",
       "<table border=\"1\" class=\"dataframe\">\n",
       "  <thead>\n",
       "    <tr style=\"text-align: right;\">\n",
       "      <th></th>\n",
       "      <th>employee_no</th>\n",
       "      <th>birth_date</th>\n",
       "      <th>first_name</th>\n",
       "      <th>last_name</th>\n",
       "      <th>gender</th>\n",
       "      <th>hire_date</th>\n",
       "      <th>employee_no</th>\n",
       "      <th>salary</th>\n",
       "      <th>from_date</th>\n",
       "      <th>to_date</th>\n",
       "      <th>Salary_Category</th>\n",
       "    </tr>\n",
       "  </thead>\n",
       "  <tbody>\n",
       "    <tr>\n",
       "      <th>0</th>\n",
       "      <td>10005</td>\n",
       "      <td>1955-01-21</td>\n",
       "      <td>Kyoichi</td>\n",
       "      <td>Maliniak</td>\n",
       "      <td>M</td>\n",
       "      <td>1989-09-12</td>\n",
       "      <td>10005</td>\n",
       "      <td>78228.0</td>\n",
       "      <td>1989-09-12</td>\n",
       "      <td>1990-09-12</td>\n",
       "      <td>70000 to 80000</td>\n",
       "    </tr>\n",
       "    <tr>\n",
       "      <th>1</th>\n",
       "      <td>10010</td>\n",
       "      <td>1963-06-01</td>\n",
       "      <td>Duangkaew</td>\n",
       "      <td>Piveteau</td>\n",
       "      <td>F</td>\n",
       "      <td>1989-08-24</td>\n",
       "      <td>10010</td>\n",
       "      <td>72488.0</td>\n",
       "      <td>1996-11-24</td>\n",
       "      <td>1997-11-24</td>\n",
       "      <td>70000 to 80000</td>\n",
       "    </tr>\n",
       "    <tr>\n",
       "      <th>2</th>\n",
       "      <td>10011</td>\n",
       "      <td>1953-11-07</td>\n",
       "      <td>Mary</td>\n",
       "      <td>Sluis</td>\n",
       "      <td>F</td>\n",
       "      <td>1990-01-22</td>\n",
       "      <td>10011</td>\n",
       "      <td>42365.0</td>\n",
       "      <td>1990-01-22</td>\n",
       "      <td>1991-01-22</td>\n",
       "      <td>0 to 50000</td>\n",
       "    </tr>\n",
       "    <tr>\n",
       "      <th>3</th>\n",
       "      <td>10013</td>\n",
       "      <td>1963-06-07</td>\n",
       "      <td>Eberhardt</td>\n",
       "      <td>Terkki</td>\n",
       "      <td>M</td>\n",
       "      <td>1985-10-20</td>\n",
       "      <td>10013</td>\n",
       "      <td>40000.0</td>\n",
       "      <td>1985-10-20</td>\n",
       "      <td>1986-10-20</td>\n",
       "      <td>0 to 50000</td>\n",
       "    </tr>\n",
       "    <tr>\n",
       "      <th>4</th>\n",
       "      <td>10017</td>\n",
       "      <td>1958-07-06</td>\n",
       "      <td>Cristinel</td>\n",
       "      <td>Bouloucos</td>\n",
       "      <td>F</td>\n",
       "      <td>1993-08-03</td>\n",
       "      <td>10017</td>\n",
       "      <td>71380.0</td>\n",
       "      <td>1993-08-03</td>\n",
       "      <td>1994-08-03</td>\n",
       "      <td>70000 to 80000</td>\n",
       "    </tr>\n",
       "    <tr>\n",
       "      <th>...</th>\n",
       "      <td>...</td>\n",
       "      <td>...</td>\n",
       "      <td>...</td>\n",
       "      <td>...</td>\n",
       "      <td>...</td>\n",
       "      <td>...</td>\n",
       "      <td>...</td>\n",
       "      <td>...</td>\n",
       "      <td>...</td>\n",
       "      <td>...</td>\n",
       "      <td>...</td>\n",
       "    </tr>\n",
       "    <tr>\n",
       "      <th>300019</th>\n",
       "      <td>499948</td>\n",
       "      <td>1953-05-24</td>\n",
       "      <td>Cordelia</td>\n",
       "      <td>Paludetto</td>\n",
       "      <td>M</td>\n",
       "      <td>1993-01-28</td>\n",
       "      <td>499948</td>\n",
       "      <td>40000.0</td>\n",
       "      <td>1999-04-09</td>\n",
       "      <td>2000-04-08</td>\n",
       "      <td>0 to 50000</td>\n",
       "    </tr>\n",
       "    <tr>\n",
       "      <th>300020</th>\n",
       "      <td>499972</td>\n",
       "      <td>1957-07-25</td>\n",
       "      <td>Katsuo</td>\n",
       "      <td>Leuchs</td>\n",
       "      <td>F</td>\n",
       "      <td>1989-11-23</td>\n",
       "      <td>499972</td>\n",
       "      <td>41002.0</td>\n",
       "      <td>1989-11-23</td>\n",
       "      <td>1990-11-23</td>\n",
       "      <td>0 to 50000</td>\n",
       "    </tr>\n",
       "    <tr>\n",
       "      <th>300021</th>\n",
       "      <td>499985</td>\n",
       "      <td>1964-12-26</td>\n",
       "      <td>Gila</td>\n",
       "      <td>Lukaszewicz</td>\n",
       "      <td>M</td>\n",
       "      <td>1997-02-11</td>\n",
       "      <td>499985</td>\n",
       "      <td>40000.0</td>\n",
       "      <td>1997-02-11</td>\n",
       "      <td>1998-02-11</td>\n",
       "      <td>0 to 50000</td>\n",
       "    </tr>\n",
       "    <tr>\n",
       "      <th>300022</th>\n",
       "      <td>499987</td>\n",
       "      <td>1961-09-05</td>\n",
       "      <td>Rimli</td>\n",
       "      <td>Dusink</td>\n",
       "      <td>F</td>\n",
       "      <td>1998-09-20</td>\n",
       "      <td>499987</td>\n",
       "      <td>52282.0</td>\n",
       "      <td>1999-12-21</td>\n",
       "      <td>2000-12-19</td>\n",
       "      <td>50000 to 60000</td>\n",
       "    </tr>\n",
       "    <tr>\n",
       "      <th>300023</th>\n",
       "      <td>499998</td>\n",
       "      <td>1956-09-05</td>\n",
       "      <td>Patricia</td>\n",
       "      <td>Breugel</td>\n",
       "      <td>M</td>\n",
       "      <td>1993-10-13</td>\n",
       "      <td>499998</td>\n",
       "      <td>40000.0</td>\n",
       "      <td>1993-12-27</td>\n",
       "      <td>1994-12-27</td>\n",
       "      <td>0 to 50000</td>\n",
       "    </tr>\n",
       "  </tbody>\n",
       "</table>\n",
       "<p>300024 rows × 11 columns</p>\n",
       "</div>"
      ],
      "text/plain": [
       "        employee_no  birth_date first_name    last_name gender   hire_date  \\\n",
       "0             10005  1955-01-21    Kyoichi     Maliniak      M  1989-09-12   \n",
       "1             10010  1963-06-01  Duangkaew     Piveteau      F  1989-08-24   \n",
       "2             10011  1953-11-07       Mary        Sluis      F  1990-01-22   \n",
       "3             10013  1963-06-07  Eberhardt       Terkki      M  1985-10-20   \n",
       "4             10017  1958-07-06  Cristinel    Bouloucos      F  1993-08-03   \n",
       "...             ...         ...        ...          ...    ...         ...   \n",
       "300019       499948  1953-05-24   Cordelia    Paludetto      M  1993-01-28   \n",
       "300020       499972  1957-07-25     Katsuo       Leuchs      F  1989-11-23   \n",
       "300021       499985  1964-12-26       Gila  Lukaszewicz      M  1997-02-11   \n",
       "300022       499987  1961-09-05      Rimli       Dusink      F  1998-09-20   \n",
       "300023       499998  1956-09-05   Patricia      Breugel      M  1993-10-13   \n",
       "\n",
       "        employee_no   salary   from_date     to_date Salary_Category  \n",
       "0             10005  78228.0  1989-09-12  1990-09-12  70000 to 80000  \n",
       "1             10010  72488.0  1996-11-24  1997-11-24  70000 to 80000  \n",
       "2             10011  42365.0  1990-01-22  1991-01-22      0 to 50000  \n",
       "3             10013  40000.0  1985-10-20  1986-10-20      0 to 50000  \n",
       "4             10017  71380.0  1993-08-03  1994-08-03  70000 to 80000  \n",
       "...             ...      ...         ...         ...             ...  \n",
       "300019       499948  40000.0  1999-04-09  2000-04-08      0 to 50000  \n",
       "300020       499972  41002.0  1989-11-23  1990-11-23      0 to 50000  \n",
       "300021       499985  40000.0  1997-02-11  1998-02-11      0 to 50000  \n",
       "300022       499987  52282.0  1999-12-21  2000-12-19  50000 to 60000  \n",
       "300023       499998  40000.0  1993-12-27  1994-12-27      0 to 50000  \n",
       "\n",
       "[300024 rows x 11 columns]"
      ]
     },
     "execution_count": 10,
     "metadata": {},
     "output_type": "execute_result"
    }
   ],
   "source": [
    "Employee_DF[\"Salary_Category\"] = pd.cut(Employee_DF[\"salary\"], \n",
    "                                        bins, \n",
    "                                        labels=group_names\n",
    "                                       )\n",
    "Employee_DF"
   ]
  },
  {
   "cell_type": "code",
   "execution_count": null,
   "metadata": {},
   "outputs": [],
   "source": []
  },
  {
   "cell_type": "code",
   "execution_count": null,
   "metadata": {},
   "outputs": [],
   "source": []
  },
  {
   "cell_type": "code",
   "execution_count": 11,
   "metadata": {},
   "outputs": [],
   "source": [
    "Employee_DF_Grouped = Employee_DF.groupby('Salary_Category')"
   ]
  },
  {
   "cell_type": "code",
   "execution_count": 12,
   "metadata": {},
   "outputs": [
    {
     "data": {
      "text/plain": [
       "Salary_Category\n",
       "0 to 50000         42016.197562\n",
       "50000 to 60000     54784.511560\n",
       "60000 to 70000     64636.478082\n",
       "70000 to 80000     74484.676715\n",
       "80000 to 90000     84281.565181\n",
       "90000 to 100000    93915.491949\n",
       "Name: salary, dtype: float64"
      ]
     },
     "execution_count": 12,
     "metadata": {},
     "output_type": "execute_result"
    }
   ],
   "source": [
    "Salary_AVG = Employee_DF_Grouped['salary'].mean()\n",
    "Salary_AVG"
   ]
  },
  {
   "cell_type": "code",
   "execution_count": 13,
   "metadata": {},
   "outputs": [
    {
     "data": {
      "image/png": "[encoded data removed]",
      "text/plain": [
       "<Figure size 432x288 with 1 Axes>"
      ]
     },
     "metadata": {
      "needs_background": "light"
     },
     "output_type": "display_data"
    }
   ],
   "source": [
    "#\n",
    "Salary_AVG.plot(kind=\"bar\")\n",
    "plt.show()"
   ]
  },
  {
   "cell_type": "code",
   "execution_count": null,
   "metadata": {},
   "outputs": [],
   "source": []
  },
  {
   "cell_type": "code",
   "execution_count": 14,
   "metadata": {},
   "outputs": [
    {
     "data": {
      "text/plain": [
       "Salary_Category\n",
       "0 to 50000         158472\n",
       "50000 to 60000      57917\n",
       "60000 to 70000      41405\n",
       "70000 to 80000      24814\n",
       "80000 to 90000      11844\n",
       "90000 to 100000      4285\n",
       "Name: salary, dtype: int64"
      ]
     },
     "execution_count": 14,
     "metadata": {},
     "output_type": "execute_result"
    }
   ],
   "source": [
    "Salary_COUNT = Employee_DF_Grouped['salary'].count()\n",
    "Salary_COUNT"
   ]
  },
  {
   "cell_type": "code",
   "execution_count": null,
   "metadata": {},
   "outputs": [],
   "source": []
  },
  {
   "cell_type": "code",
   "execution_count": null,
   "metadata": {},
   "outputs": [],
   "source": []
  },
  {
   "cell_type": "code",
   "execution_count": null,
   "metadata": {},
   "outputs": [],
   "source": []
  },
  {
   "cell_type": "code",
   "execution_count": null,
   "metadata": {},
   "outputs": [],
   "source": []
  },
  {
   "cell_type": "code",
   "execution_count": null,
   "metadata": {},
   "outputs": [],
   "source": [
    "\n",
    "Employee_DF2 = pd.read_sql(\"SELECT * FROM EMPLOYEE AS E INNER JOIN SALARIES AS S ON E.EMPLOYEE_NO = S.EMPLOYEE_NO INNER JOIN TITLES AS T ON E.EMPLOYEE_NO = T.EMPLOYEE_NO\", Connection)\n"
   ]
  },
  {
   "cell_type": "code",
   "execution_count": null,
   "metadata": {},
   "outputs": [],
   "source": []
  },
  {
   "cell_type": "code",
   "execution_count": null,
   "metadata": {},
   "outputs": [],
   "source": []
  },
  {
   "cell_type": "code",
   "execution_count": null,
   "metadata": {},
   "outputs": [],
   "source": []
  },
  {
   "cell_type": "code",
   "execution_count": null,
   "metadata": {},
   "outputs": [],
   "source": [
    "\n"
   ]
  },
  {
   "cell_type": "code",
   "execution_count": null,
   "metadata": {},
   "outputs": [],
   "source": []
  },
  {
   "cell_type": "code",
   "execution_count": null,
   "metadata": {},
   "outputs": [],
   "source": []
  }
 ],
 "metadata": {
  "kernelspec": {
   "display_name": "Python 3",
   "language": "python",
   "name": "python3"
  },
  "language_info": {
   "codemirror_mode": {
    "name": "ipython",
    "version": 3
   },
   "file_extension": ".py",
   "mimetype": "text/x-python",
   "name": "python",
   "nbconvert_exporter": "python",
   "pygments_lexer": "ipython3",
   "version": "3.7.6"
  }
 },
 "nbformat": 4,
 "nbformat_minor": 4
}
